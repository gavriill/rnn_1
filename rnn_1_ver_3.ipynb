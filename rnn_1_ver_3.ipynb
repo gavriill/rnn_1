{
 "cells": [
  {
   "cell_type": "markdown",
   "metadata": {},
   "source": [
    "### Домашнее задание\n",
    "### Обучите нейронную сеть решать шифр цезаря.\n",
    "####  Что надо сделать:\n",
    "1. Написать алгоритм шифра цезаря для генерации выборки (сдвиг на К каждой буквы. Например, при сдвиге на 2 буква “А” переходит в букву “В” и тп)\n",
    "2. Сделать нейронную сеть\n",
    "3. Обучить ее (вход - зашифрованная фраза, выход - дешифрованная фраза)\n",
    "4. Проверить качество"
   ]
  },
  {
   "cell_type": "markdown",
   "metadata": {},
   "source": [
    "#### 1. Написать алгоритм шифра цезаря для генерации выборки (сдвиг на К каждой буквы. Например, при сдвиге на 2 буква “А” переходит в букву “В” и тп)"
   ]
  },
  {
   "cell_type": "code",
   "execution_count": 13,
   "metadata": {},
   "outputs": [],
   "source": [
    "import pandas as pd\n",
    "import time\n",
    "import torch\n",
    "from sklearn.model_selection import train_test_split"
   ]
  },
  {
   "cell_type": "code",
   "execution_count": 14,
   "metadata": {},
   "outputs": [],
   "source": [
    "k='hellow'"
   ]
  },
  {
   "cell_type": "code",
   "execution_count": 16,
   "metadata": {},
   "outputs": [
    {
     "data": {
      "text/plain": [
       "'jgnnqy2 mmb'"
      ]
     },
     "execution_count": 16,
     "metadata": {},
     "output_type": "execute_result"
    }
   ],
   "source": [
    "def caesar(text, shift=2):\n",
    "    LETTERS = 'abcdefghijklmnopqrstuvwxyzabcdefghijklmnopqrstuvwxyz'\n",
    "    result=[]\n",
    "    for symbol in text:\n",
    "        if symbol.isalpha():\n",
    "            num = LETTERS.find(symbol)\n",
    "            result.append(LETTERS[num+shift])\n",
    "        else:\n",
    "            result.append(symbol)\n",
    "    \n",
    "    return ''.join(result)\n",
    "\n",
    "\n",
    "caesar('hellow2 kkz',2)"
   ]
  },
  {
   "cell_type": "code",
   "execution_count": 17,
   "metadata": {},
   "outputs": [
    {
     "data": {
      "text/html": [
       "<div>\n",
       "<style scoped>\n",
       "    .dataframe tbody tr th:only-of-type {\n",
       "        vertical-align: middle;\n",
       "    }\n",
       "\n",
       "    .dataframe tbody tr th {\n",
       "        vertical-align: top;\n",
       "    }\n",
       "\n",
       "    .dataframe thead th {\n",
       "        text-align: right;\n",
       "    }\n",
       "</style>\n",
       "<table border=\"1\" class=\"dataframe\">\n",
       "  <thead>\n",
       "    <tr style=\"text-align: right;\">\n",
       "      <th></th>\n",
       "      <th>Unnamed: 0</th>\n",
       "      <th>id</th>\n",
       "      <th>episode_id</th>\n",
       "      <th>number</th>\n",
       "      <th>raw_text</th>\n",
       "      <th>timestamp_in_ms</th>\n",
       "      <th>speaking_line</th>\n",
       "      <th>character_id</th>\n",
       "      <th>location_id</th>\n",
       "      <th>raw_character_text</th>\n",
       "      <th>raw_location_text</th>\n",
       "      <th>spoken_words</th>\n",
       "      <th>normalized_text</th>\n",
       "      <th>word_count</th>\n",
       "    </tr>\n",
       "  </thead>\n",
       "  <tbody>\n",
       "    <tr>\n",
       "      <th>0</th>\n",
       "      <td>0</td>\n",
       "      <td>10368</td>\n",
       "      <td>35</td>\n",
       "      <td>29</td>\n",
       "      <td>Lisa Simpson: Maggie, look. What's that?</td>\n",
       "      <td>235000</td>\n",
       "      <td>True</td>\n",
       "      <td>9</td>\n",
       "      <td>5.0</td>\n",
       "      <td>Lisa Simpson</td>\n",
       "      <td>Simpson Home</td>\n",
       "      <td>Maggie, look. What's that?</td>\n",
       "      <td>maggie look whats that</td>\n",
       "      <td>4.0</td>\n",
       "    </tr>\n",
       "    <tr>\n",
       "      <th>1</th>\n",
       "      <td>1</td>\n",
       "      <td>10369</td>\n",
       "      <td>35</td>\n",
       "      <td>30</td>\n",
       "      <td>Lisa Simpson: Lee-mur. Lee-mur.</td>\n",
       "      <td>237000</td>\n",
       "      <td>True</td>\n",
       "      <td>9</td>\n",
       "      <td>5.0</td>\n",
       "      <td>Lisa Simpson</td>\n",
       "      <td>Simpson Home</td>\n",
       "      <td>Lee-mur. Lee-mur.</td>\n",
       "      <td>lee-mur lee-mur</td>\n",
       "      <td>2.0</td>\n",
       "    </tr>\n",
       "  </tbody>\n",
       "</table>\n",
       "</div>"
      ],
      "text/plain": [
       "   Unnamed: 0     id  episode_id  number  \\\n",
       "0           0  10368          35      29   \n",
       "1           1  10369          35      30   \n",
       "\n",
       "                                   raw_text  timestamp_in_ms  speaking_line  \\\n",
       "0  Lisa Simpson: Maggie, look. What's that?           235000           True   \n",
       "1           Lisa Simpson: Lee-mur. Lee-mur.           237000           True   \n",
       "\n",
       "   character_id  location_id raw_character_text raw_location_text  \\\n",
       "0             9          5.0       Lisa Simpson      Simpson Home   \n",
       "1             9          5.0       Lisa Simpson      Simpson Home   \n",
       "\n",
       "                 spoken_words         normalized_text  word_count  \n",
       "0  Maggie, look. What's that?  maggie look whats that         4.0  \n",
       "1           Lee-mur. Lee-mur.         lee-mur lee-mur         2.0  "
      ]
     },
     "execution_count": 17,
     "metadata": {},
     "output_type": "execute_result"
    }
   ],
   "source": [
    "df = pd.read_csv('data.csv')\n",
    "df.head(2)"
   ]
  },
  {
   "cell_type": "code",
   "execution_count": null,
   "metadata": {},
   "outputs": [],
   "source": []
  },
  {
   "cell_type": "code",
   "execution_count": 21,
   "metadata": {},
   "outputs": [],
   "source": [
    "import re\n",
    "regex = re.compile(\"[[a-zA-Z]+\")\n",
    "\n",
    "def words_only(text, regex=regex):\n",
    "    try:\n",
    "        return \" \".join(regex.findall(text))\n",
    "    except:\n",
    "        return \"\""
   ]
  },
  {
   "cell_type": "code",
   "execution_count": 30,
   "metadata": {},
   "outputs": [],
   "source": [
    "#### почистим еще немного\n",
    "df['clean']=df['normalized_text'].apply(words_only)"
   ]
  },
  {
   "cell_type": "code",
   "execution_count": 31,
   "metadata": {},
   "outputs": [],
   "source": [
    "new_df=pd.DataFrame(df['clean'].dropna())"
   ]
  },
  {
   "cell_type": "code",
   "execution_count": 33,
   "metadata": {},
   "outputs": [
    {
     "data": {
      "text/html": [
       "<div>\n",
       "<style scoped>\n",
       "    .dataframe tbody tr th:only-of-type {\n",
       "        vertical-align: middle;\n",
       "    }\n",
       "\n",
       "    .dataframe tbody tr th {\n",
       "        vertical-align: top;\n",
       "    }\n",
       "\n",
       "    .dataframe thead th {\n",
       "        text-align: right;\n",
       "    }\n",
       "</style>\n",
       "<table border=\"1\" class=\"dataframe\">\n",
       "  <thead>\n",
       "    <tr style=\"text-align: right;\">\n",
       "      <th></th>\n",
       "      <th>clean</th>\n",
       "    </tr>\n",
       "  </thead>\n",
       "  <tbody>\n",
       "    <tr>\n",
       "      <th>0</th>\n",
       "      <td>maggie look whats that</td>\n",
       "    </tr>\n",
       "    <tr>\n",
       "      <th>1</th>\n",
       "      <td>lee mur lee mur</td>\n",
       "    </tr>\n",
       "    <tr>\n",
       "      <th>2</th>\n",
       "      <td>zee boo zee boo</td>\n",
       "    </tr>\n",
       "    <tr>\n",
       "      <th>3</th>\n",
       "      <td>im trying to teach maggie that nature doesnt e...</td>\n",
       "    </tr>\n",
       "    <tr>\n",
       "      <th>4</th>\n",
       "      <td>its like an ox only it has a hump and a dewlap...</td>\n",
       "    </tr>\n",
       "    <tr>\n",
       "      <th>5</th>\n",
       "      <td>you know his blood type how romantic</td>\n",
       "    </tr>\n",
       "    <tr>\n",
       "      <th>6</th>\n",
       "      <td>oh yeah whats my shoe size</td>\n",
       "    </tr>\n",
       "    <tr>\n",
       "      <th>7</th>\n",
       "      <td>ring</td>\n",
       "    </tr>\n",
       "    <tr>\n",
       "      <th>8</th>\n",
       "      <td>yes dad</td>\n",
       "    </tr>\n",
       "    <tr>\n",
       "      <th>9</th>\n",
       "      <td>ooh look maggie what is that do dec ah edron d...</td>\n",
       "    </tr>\n",
       "  </tbody>\n",
       "</table>\n",
       "</div>"
      ],
      "text/plain": [
       "                                               clean\n",
       "0                             maggie look whats that\n",
       "1                                    lee mur lee mur\n",
       "2                                    zee boo zee boo\n",
       "3  im trying to teach maggie that nature doesnt e...\n",
       "4  its like an ox only it has a hump and a dewlap...\n",
       "5               you know his blood type how romantic\n",
       "6                         oh yeah whats my shoe size\n",
       "7                                               ring\n",
       "8                                            yes dad\n",
       "9  ooh look maggie what is that do dec ah edron d..."
      ]
     },
     "execution_count": 33,
     "metadata": {},
     "output_type": "execute_result"
    }
   ],
   "source": [
    "new_df.head(10)"
   ]
  },
  {
   "cell_type": "code",
   "execution_count": 35,
   "metadata": {},
   "outputs": [],
   "source": [
    "new_df['caesar_text']=new_df.clean.apply(lambda x: caesar(str(x), 2))"
   ]
  },
  {
   "cell_type": "code",
   "execution_count": 44,
   "metadata": {},
   "outputs": [
    {
     "data": {
      "text/html": [
       "<div>\n",
       "<style scoped>\n",
       "    .dataframe tbody tr th:only-of-type {\n",
       "        vertical-align: middle;\n",
       "    }\n",
       "\n",
       "    .dataframe tbody tr th {\n",
       "        vertical-align: top;\n",
       "    }\n",
       "\n",
       "    .dataframe thead th {\n",
       "        text-align: right;\n",
       "    }\n",
       "</style>\n",
       "<table border=\"1\" class=\"dataframe\">\n",
       "  <thead>\n",
       "    <tr style=\"text-align: right;\">\n",
       "      <th></th>\n",
       "      <th>clean</th>\n",
       "      <th>caesar_text</th>\n",
       "    </tr>\n",
       "  </thead>\n",
       "  <tbody>\n",
       "    <tr>\n",
       "      <th>0</th>\n",
       "      <td>maggie look whats that</td>\n",
       "      <td>ociikg nqqm yjcvu vjcv</td>\n",
       "    </tr>\n",
       "    <tr>\n",
       "      <th>1</th>\n",
       "      <td>lee mur lee mur</td>\n",
       "      <td>ngg owt ngg owt</td>\n",
       "    </tr>\n",
       "    <tr>\n",
       "      <th>2</th>\n",
       "      <td>zee boo zee boo</td>\n",
       "      <td>bgg dqq bgg dqq</td>\n",
       "    </tr>\n",
       "    <tr>\n",
       "      <th>3</th>\n",
       "      <td>im trying to teach maggie that nature doesnt e...</td>\n",
       "      <td>ko vtakpi vq vgcej ociikg vjcv pcvwtg fqgupv g...</td>\n",
       "    </tr>\n",
       "    <tr>\n",
       "      <th>4</th>\n",
       "      <td>its like an ox only it has a hump and a dewlap...</td>\n",
       "      <td>kvu nkmg cp qz qpna kv jcu c jwor cpf c fgyncr...</td>\n",
       "    </tr>\n",
       "    <tr>\n",
       "      <th>5</th>\n",
       "      <td>you know his blood type how romantic</td>\n",
       "      <td>aqw mpqy jku dnqqf varg jqy tqocpvke</td>\n",
       "    </tr>\n",
       "    <tr>\n",
       "      <th>6</th>\n",
       "      <td>oh yeah whats my shoe size</td>\n",
       "      <td>qj agcj yjcvu oa ujqg ukbg</td>\n",
       "    </tr>\n",
       "    <tr>\n",
       "      <th>7</th>\n",
       "      <td>ring</td>\n",
       "      <td>tkpi</td>\n",
       "    </tr>\n",
       "    <tr>\n",
       "      <th>8</th>\n",
       "      <td>yes dad</td>\n",
       "      <td>agu fcf</td>\n",
       "    </tr>\n",
       "    <tr>\n",
       "      <th>9</th>\n",
       "      <td>ooh look maggie what is that do dec ah edron d...</td>\n",
       "      <td>qqj nqqm ociikg yjcv ku vjcv fq fge cj gftqp f...</td>\n",
       "    </tr>\n",
       "  </tbody>\n",
       "</table>\n",
       "</div>"
      ],
      "text/plain": [
       "                                               clean  \\\n",
       "0                             maggie look whats that   \n",
       "1                                    lee mur lee mur   \n",
       "2                                    zee boo zee boo   \n",
       "3  im trying to teach maggie that nature doesnt e...   \n",
       "4  its like an ox only it has a hump and a dewlap...   \n",
       "5               you know his blood type how romantic   \n",
       "6                         oh yeah whats my shoe size   \n",
       "7                                               ring   \n",
       "8                                            yes dad   \n",
       "9  ooh look maggie what is that do dec ah edron d...   \n",
       "\n",
       "                                         caesar_text  \n",
       "0                             ociikg nqqm yjcvu vjcv  \n",
       "1                                    ngg owt ngg owt  \n",
       "2                                    bgg dqq bgg dqq  \n",
       "3  ko vtakpi vq vgcej ociikg vjcv pcvwtg fqgupv g...  \n",
       "4  kvu nkmg cp qz qpna kv jcu c jwor cpf c fgyncr...  \n",
       "5               aqw mpqy jku dnqqf varg jqy tqocpvke  \n",
       "6                         qj agcj yjcvu oa ujqg ukbg  \n",
       "7                                               tkpi  \n",
       "8                                            agu fcf  \n",
       "9  qqj nqqm ociikg yjcv ku vjcv fq fge cj gftqp f...  "
      ]
     },
     "execution_count": 44,
     "metadata": {},
     "output_type": "execute_result"
    }
   ],
   "source": [
    "new_df.head(10)"
   ]
  },
  {
   "cell_type": "code",
   "execution_count": 40,
   "metadata": {},
   "outputs": [],
   "source": [
    "## Оставим кусок для валидации\n",
    "df_train, df_test = train_test_split(new_df, test_size=0.33)"
   ]
  },
  {
   "cell_type": "code",
   "execution_count": 48,
   "metadata": {},
   "outputs": [],
   "source": [
    "text = [[c for c in ph] for ph in df_train.clean.tolist() if type(ph) is str]"
   ]
  },
  {
   "cell_type": "code",
   "execution_count": 49,
   "metadata": {},
   "outputs": [],
   "source": [
    "ceas_text=[[caesar(c) for c in ph] for ph in text ]"
   ]
  },
  {
   "cell_type": "code",
   "execution_count": 55,
   "metadata": {},
   "outputs": [
    {
     "data": {
      "text/plain": [
       "{'none': 0,\n",
       " 'a': 1,\n",
       " 'b': 2,\n",
       " 'c': 3,\n",
       " 'd': 4,\n",
       " 'e': 5,\n",
       " 'f': 6,\n",
       " 'g': 7,\n",
       " 'h': 8,\n",
       " 'i': 9,\n",
       " 'j': 10,\n",
       " 'k': 11,\n",
       " 'l': 12,\n",
       " 'm': 13,\n",
       " 'n': 14,\n",
       " 'o': 15,\n",
       " 'p': 16,\n",
       " 'q': 17,\n",
       " 'r': 18,\n",
       " 's': 19,\n",
       " 't': 20,\n",
       " 'u': 21,\n",
       " 'v': 22,\n",
       " 'w': 23,\n",
       " 'x': 24,\n",
       " 'y': 25,\n",
       " 'z': 26,\n",
       " ' ': 27}"
      ]
     },
     "execution_count": 55,
     "metadata": {},
     "output_type": "execute_result"
    }
   ],
   "source": [
    "CHARS = 'abcdefghijklmnopqrstuvwxyz '\n",
    "INDEX_TO_CHAR = ['none'] + [w for w in CHARS]\n",
    "CHAR_TO_INDEX = {w: i for i, w in enumerate(INDEX_TO_CHAR)}\n",
    "MAX_LEN = 50\n",
    "CHAR_TO_INDEX"
   ]
  },
  {
   "cell_type": "code",
   "execution_count": 56,
   "metadata": {},
   "outputs": [],
   "source": [
    "MAX_LEN = 50\n",
    "Y = torch.zeros((len(text), MAX_LEN), dtype=int)\n",
    "for i in range(len(text)):\n",
    "    for j, w in enumerate(text[i]):\n",
    "        if j >= MAX_LEN:\n",
    "            break\n",
    "        Y[i, j] = CHAR_TO_INDEX.get(w, CHAR_TO_INDEX['none'])"
   ]
  },
  {
   "cell_type": "code",
   "execution_count": 57,
   "metadata": {},
   "outputs": [],
   "source": [
    "MAX_LEN = 50\n",
    "X= torch.zeros((len(text), MAX_LEN), dtype=int)\n",
    "for i in range(len(text)):\n",
    "    for j, w in enumerate(ceas_text[i]):\n",
    "        if j >= MAX_LEN:\n",
    "            break\n",
    "        X[i, j] = CHAR_TO_INDEX.get(w, CHAR_TO_INDEX['none'])"
   ]
  },
  {
   "cell_type": "code",
   "execution_count": 58,
   "metadata": {},
   "outputs": [
    {
     "data": {
      "text/plain": [
       "tensor([22, 10,  3, 22, 21, 27,  5, 17, 20, 20,  7,  5, 22,  0,  0,  0,  0,  0,\n",
       "         0,  0,  0,  0,  0,  0,  0,  0,  0,  0,  0,  0,  0,  0,  0,  0,  0,  0,\n",
       "         0,  0,  0,  0,  0,  0,  0,  0,  0,  0,  0,  0,  0,  0])"
      ]
     },
     "execution_count": 58,
     "metadata": {},
     "output_type": "execute_result"
    }
   ],
   "source": [
    "X[1]"
   ]
  },
  {
   "cell_type": "code",
   "execution_count": 59,
   "metadata": {
    "scrolled": false
   },
   "outputs": [
    {
     "data": {
      "text/plain": [
       "tensor([20,  8,  1, 20, 19, 27,  3, 15, 18, 18,  5,  3, 20,  0,  0,  0,  0,  0,\n",
       "         0,  0,  0,  0,  0,  0,  0,  0,  0,  0,  0,  0,  0,  0,  0,  0,  0,  0,\n",
       "         0,  0,  0,  0,  0,  0,  0,  0,  0,  0,  0,  0,  0,  0])"
      ]
     },
     "execution_count": 59,
     "metadata": {},
     "output_type": "execute_result"
    }
   ],
   "source": [
    "Y[1]"
   ]
  },
  {
   "cell_type": "markdown",
   "metadata": {},
   "source": [
    "#### 2. Сделать нейронную сеть"
   ]
  },
  {
   "cell_type": "code",
   "execution_count": 60,
   "metadata": {},
   "outputs": [],
   "source": [
    "class Network(torch.nn.Module):\n",
    "    def __init__(self):\n",
    "        super(Network, self).__init__()\n",
    "        ## Здесь создать слои\n",
    "        self.embeddings = torch.nn.Embedding(len(INDEX_TO_CHAR),28)\n",
    "        self.rnn = torch.nn.RNN(28,128, batch_first=True)\n",
    "        self.linear = torch.nn.Linear(128,28)\n",
    "        \n",
    "    def forward(self, sentences, state=None):\n",
    "        ## Здесь применить\n",
    "        embds= self.embeddings(sentences)\n",
    "        out, new_state = self.rnn(embds,state)\n",
    "        result=self.linear(out)\n",
    "        return result, new_state"
   ]
  },
  {
   "cell_type": "code",
   "execution_count": 61,
   "metadata": {},
   "outputs": [],
   "source": [
    "model = Network()"
   ]
  },
  {
   "cell_type": "code",
   "execution_count": 62,
   "metadata": {},
   "outputs": [],
   "source": [
    "criterion = torch.nn.CrossEntropyLoss()\n",
    "optimizer = torch.optim.SGD(model.parameters(), lr=.05)"
   ]
  },
  {
   "cell_type": "markdown",
   "metadata": {},
   "source": [
    "#### 3. Обучить ее (вход - зашифрованная фраза, выход - дешифрованная фраза)"
   ]
  },
  {
   "cell_type": "code",
   "execution_count": 63,
   "metadata": {},
   "outputs": [
    {
     "name": "stdout",
     "output_type": "stream",
     "text": [
      "Epoch 0. Time: 3.321, Train loss: 1.443\n",
      "Epoch 1. Time: 3.185, Train loss: 0.646\n",
      "Epoch 2. Time: 3.135, Train loss: 0.363\n",
      "Epoch 3. Time: 3.093, Train loss: 0.228\n",
      "Epoch 4. Time: 3.263, Train loss: 0.157\n",
      "Epoch 5. Time: 3.117, Train loss: 0.116\n",
      "Epoch 6. Time: 3.183, Train loss: 0.089\n",
      "Epoch 7. Time: 3.221, Train loss: 0.071\n",
      "Epoch 8. Time: 3.073, Train loss: 0.059\n",
      "Epoch 9. Time: 3.118, Train loss: 0.050\n",
      "Epoch 10. Time: 3.231, Train loss: 0.043\n",
      "Epoch 11. Time: 3.166, Train loss: 0.038\n",
      "Epoch 12. Time: 3.011, Train loss: 0.034\n",
      "Epoch 13. Time: 3.115, Train loss: 0.031\n",
      "Epoch 14. Time: 3.123, Train loss: 0.028\n",
      "Epoch 15. Time: 3.193, Train loss: 0.026\n",
      "Epoch 16. Time: 3.131, Train loss: 0.024\n",
      "Epoch 17. Time: 3.074, Train loss: 0.022\n",
      "Epoch 18. Time: 3.190, Train loss: 0.021\n",
      "Epoch 19. Time: 3.111, Train loss: 0.020\n",
      "Epoch 20. Time: 3.037, Train loss: 0.018\n",
      "Epoch 21. Time: 3.195, Train loss: 0.018\n",
      "Epoch 22. Time: 3.122, Train loss: 0.017\n",
      "Epoch 23. Time: 3.237, Train loss: 0.016\n",
      "Epoch 24. Time: 3.181, Train loss: 0.015\n"
     ]
    }
   ],
   "source": [
    "for ep in range(25):\n",
    "    start = time.time()\n",
    "    train_loss = 0.\n",
    "    train_passed = 0\n",
    "\n",
    "    for i in range(int(len(X) / 100)):\n",
    "        X_batch = X[i * 100:(i + 1) * 100]\n",
    "        Y_batch = Y[i * 100:(i + 1) * 100].flatten()\n",
    "\n",
    "        optimizer.zero_grad()\n",
    "        answers, _ = model.forward(X_batch)\n",
    "        answers = answers.view(-1, len(INDEX_TO_CHAR))\n",
    "        loss = criterion(answers, Y_batch)\n",
    "        train_loss += loss.item()\n",
    "\n",
    "        loss.backward()\n",
    "        optimizer.step()\n",
    "        train_passed += 1\n",
    "\n",
    "    print(\"Epoch {}. Time: {:.3f}, Train loss: {:.3f}\".format(ep, time.time() - start, train_loss / train_passed))"
   ]
  },
  {
   "cell_type": "code",
   "execution_count": 75,
   "metadata": {},
   "outputs": [],
   "source": [
    "\n",
    "def generate_sentence(sentence):\n",
    "    print('caeser_text=>>',sentence)\n",
    "    state = None\n",
    "    new_sentence=[]\n",
    "    for i in range( len(sentence) ):\n",
    "        X = torch.Tensor([[CHAR_TO_INDEX[sentence[i]]]]).type(torch.long)\n",
    "        result, state = model.forward( X, state )\n",
    "        index = result.argmax()\n",
    "        new_sentence.append(INDEX_TO_CHAR[index])\n",
    "    print('encrypted text=>>',''.join(new_sentence))\n"
   ]
  },
  {
   "cell_type": "code",
   "execution_count": 76,
   "metadata": {},
   "outputs": [
    {
     "name": "stdout",
     "output_type": "stream",
     "text": [
      "caeser_text=>> jgnnqy oa fgct htkgpf\n",
      "encrypted text=>> hellow my dear friend\n"
     ]
    }
   ],
   "source": [
    "## Посмотрим как оно работает\n",
    "generate_sentence(sentence=caesar('hellow my dear friend'))"
   ]
  },
  {
   "cell_type": "markdown",
   "metadata": {},
   "source": [
    "#### 4. Проверить качество"
   ]
  },
  {
   "cell_type": "code",
   "execution_count": 80,
   "metadata": {},
   "outputs": [
    {
     "data": {
      "text/html": [
       "<div>\n",
       "<style scoped>\n",
       "    .dataframe tbody tr th:only-of-type {\n",
       "        vertical-align: middle;\n",
       "    }\n",
       "\n",
       "    .dataframe tbody tr th {\n",
       "        vertical-align: top;\n",
       "    }\n",
       "\n",
       "    .dataframe thead th {\n",
       "        text-align: right;\n",
       "    }\n",
       "</style>\n",
       "<table border=\"1\" class=\"dataframe\">\n",
       "  <thead>\n",
       "    <tr style=\"text-align: right;\">\n",
       "      <th></th>\n",
       "      <th>clean</th>\n",
       "      <th>caesar_text</th>\n",
       "    </tr>\n",
       "  </thead>\n",
       "  <tbody>\n",
       "    <tr>\n",
       "      <th>909</th>\n",
       "      <td>yayyyyyy</td>\n",
       "      <td>acaaaaaa</td>\n",
       "    </tr>\n",
       "    <tr>\n",
       "      <th>475</th>\n",
       "      <td>please dont leave me george</td>\n",
       "      <td>rngcug fqpv ngcxg og igqtig</td>\n",
       "    </tr>\n",
       "    <tr>\n",
       "      <th>9854</th>\n",
       "      <td>are we truly in space and if so why</td>\n",
       "      <td>ctg yg vtwna kp urceg cpf kh uq yja</td>\n",
       "    </tr>\n",
       "    <tr>\n",
       "      <th>10671</th>\n",
       "      <td>he brought us gifts his first unselfish act</td>\n",
       "      <td>jg dtqwijv wu ikhvu jku hktuv wpugnhkuj cev</td>\n",
       "    </tr>\n",
       "    <tr>\n",
       "      <th>7064</th>\n",
       "      <td>mom bart has something to tell you</td>\n",
       "      <td>oqo dctv jcu uqogvjkpi vq vgnn aqw</td>\n",
       "    </tr>\n",
       "  </tbody>\n",
       "</table>\n",
       "</div>"
      ],
      "text/plain": [
       "                                             clean  \\\n",
       "909                                       yayyyyyy   \n",
       "475                    please dont leave me george   \n",
       "9854           are we truly in space and if so why   \n",
       "10671  he brought us gifts his first unselfish act   \n",
       "7064            mom bart has something to tell you   \n",
       "\n",
       "                                       caesar_text  \n",
       "909                                       acaaaaaa  \n",
       "475                    rngcug fqpv ngcxg og igqtig  \n",
       "9854           ctg yg vtwna kp urceg cpf kh uq yja  \n",
       "10671  jg dtqwijv wu ikhvu jku hktuv wpugnhkuj cev  \n",
       "7064            oqo dctv jcu uqogvjkpi vq vgnn aqw  "
      ]
     },
     "execution_count": 80,
     "metadata": {},
     "output_type": "execute_result"
    }
   ],
   "source": [
    "test.head()"
   ]
  },
  {
   "cell_type": "code",
   "execution_count": 88,
   "metadata": {},
   "outputs": [],
   "source": [
    "text = [[c for c in ph] for ph in df_test.clean.tolist() if type(ph) is str]"
   ]
  },
  {
   "cell_type": "code",
   "execution_count": 79,
   "metadata": {},
   "outputs": [],
   "source": [
    "ceas_text=[[caesar(c) for c in ph] for ph in text ]"
   ]
  },
  {
   "cell_type": "code",
   "execution_count": 91,
   "metadata": {},
   "outputs": [],
   "source": [
    "MAX_LEN = 50\n",
    "Y = torch.zeros((len(text), MAX_LEN), dtype=int)\n",
    "for i in range(len(text)):\n",
    "    for j, w in enumerate(text[i]):\n",
    "        if j >= MAX_LEN:\n",
    "            break\n",
    "        Y[i, j] = CHAR_TO_INDEX.get(w, CHAR_TO_INDEX['none'])"
   ]
  },
  {
   "cell_type": "code",
   "execution_count": 92,
   "metadata": {},
   "outputs": [],
   "source": [
    "MAX_LEN = 50\n",
    "X= torch.zeros((len(text), MAX_LEN), dtype=int)\n",
    "for i in range(len(text)):\n",
    "    for j, w in enumerate(ceas_text[i]):\n",
    "        if j >= MAX_LEN:\n",
    "            break\n",
    "        X[i, j] = CHAR_TO_INDEX.get(w, CHAR_TO_INDEX['none'])"
   ]
  },
  {
   "cell_type": "code",
   "execution_count": null,
   "metadata": {},
   "outputs": [],
   "source": [
    "model.eval()"
   ]
  },
  {
   "cell_type": "code",
   "execution_count": 110,
   "metadata": {},
   "outputs": [],
   "source": [
    "answers, _ = model.forward(X)"
   ]
  },
  {
   "cell_type": "code",
   "execution_count": 111,
   "metadata": {},
   "outputs": [],
   "source": [
    "answers = answers.view(-1, len(INDEX_TO_CHAR))"
   ]
  },
  {
   "cell_type": "code",
   "execution_count": 135,
   "metadata": {},
   "outputs": [
    {
     "data": {
      "text/plain": [
       "0.9985420463420984"
      ]
     },
     "execution_count": 135,
     "metadata": {},
     "output_type": "execute_result"
    }
   ],
   "source": [
    "## Точность на тесте\n",
    "sum(answers.argmax(axis=1)==Y.flatten()).numpy()/Y.flatten().shape[0]"
   ]
  }
 ],
 "metadata": {
  "kernelspec": {
   "display_name": "Python 3",
   "language": "python",
   "name": "python3"
  },
  "language_info": {
   "codemirror_mode": {
    "name": "ipython",
    "version": 3
   },
   "file_extension": ".py",
   "mimetype": "text/x-python",
   "name": "python",
   "nbconvert_exporter": "python",
   "pygments_lexer": "ipython3",
   "version": "3.6.9"
  }
 },
 "nbformat": 4,
 "nbformat_minor": 2
}
